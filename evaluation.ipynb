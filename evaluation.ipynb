{
 "cells": [
  {
   "cell_type": "markdown",
   "metadata": {},
   "source": [
    "imports"
   ]
  },
  {
   "cell_type": "code",
   "execution_count": 1,
   "metadata": {},
   "outputs": [
    {
     "name": "stderr",
     "output_type": "stream",
     "text": [
      "/home/spidi/anaconda3/envs/entorno_py310/lib/python3.10/site-packages/tqdm/auto.py:21: TqdmWarning: IProgress not found. Please update jupyter and ipywidgets. See https://ipywidgets.readthedocs.io/en/stable/user_install.html\n",
      "  from .autonotebook import tqdm as notebook_tqdm\n"
     ]
    }
   ],
   "source": [
    "import GUI"
   ]
  },
  {
   "cell_type": "markdown",
   "metadata": {},
   "source": [
    "create evaluation dataframe"
   ]
  },
  {
   "cell_type": "code",
   "execution_count": 2,
   "metadata": {},
   "outputs": [
    {
     "name": "stdout",
     "output_type": "stream",
     "text": [
      "   AnswerID                             \\\n",
      "0  ADAM_0003147_Sec1.txt                 \n",
      "1  ADAM_0003147_Sec2.txt                 \n",
      "2  ADAM_0002818_Sec2.txt                 \n",
      "3  ADAM_0002818_Sec7.txt                 \n",
      "4  ADAM_0002818_Sec9.txt                 \n",
      "\n",
      "                                              Answer  \n",
      "0  Question: What is (are) Polycystic ovary syndr...  \n",
      "1  Question: What causes Polycystic ovary syndrom...  \n",
      "2  Question: What causes Noonan syndrome ?\\r\\n   ...  \n",
      "3  Question: What are the complications of Noonan...  \n",
      "4  Question: How to prevent Noonan syndrome ?\\r\\n...  \n"
     ]
    }
   ],
   "source": [
    "import pandas as pd\n",
    "\n",
    "# Assuming your CSV file is named 'data.csv'\n",
    "df = pd.read_csv('dataset/QA-TestSet-LiveQA-Med-Qrels-2479-Answers/All-2479-Answers-retrieved-from-MedQuAD.csv', engine='python')\n",
    "print(df.head())"
   ]
  },
  {
   "cell_type": "code",
   "execution_count": 3,
   "metadata": {},
   "outputs": [
    {
     "data": {
      "text/plain": [
       "0       Question: What is (are) Polycystic ovary syndr...\n",
       "1       Question: What causes Polycystic ovary syndrom...\n",
       "2       Question: What causes Noonan syndrome ?\\r\\n   ...\n",
       "3       Question: What are the complications of Noonan...\n",
       "4       Question: How to prevent Noonan syndrome ?\\r\\n...\n",
       "                              ...                        \n",
       "2474    Question: What should I do if I forget a dose ...\n",
       "2475    Question: What are the side effects or risks o...\n",
       "2476    Question: What to do in case of emergency or o...\n",
       "2477    Question: What other information should I know...\n",
       "2478    Question: What should I know about storage and...\n",
       "Name: Answer, Length: 2479, dtype: object"
      ]
     },
     "execution_count": 3,
     "metadata": {},
     "output_type": "execute_result"
    }
   ],
   "source": [
    "df['Answer']"
   ]
  },
  {
   "cell_type": "code",
   "execution_count": 4,
   "metadata": {},
   "outputs": [],
   "source": [
    "# Assuming 'df' is your original DataFrame\n",
    "\n",
    "# Regular expression to match the structure of the 'Answer' column\n",
    "pattern = r'Question:\\s*(.*?)\\s*URL:\\s*(https?://[^\\s]+)\\s*Answer:\\s*(.*)'\n",
    "\n",
    "# Extracting the components into a new DataFrame\n",
    "questions_df = df['Answer'].str.extract(pattern, expand=True)\n",
    "questions_df.columns = ['Question', 'URL', 'Answer']"
   ]
  },
  {
   "cell_type": "code",
   "execution_count": 5,
   "metadata": {},
   "outputs": [
    {
     "data": {
      "text/plain": [
       "0    What is (are) Polycystic ovary syndrome ? (Als...\n",
       "1    What causes Polycystic ovary syndrome ? (Also ...\n",
       "2                        What causes Noonan syndrome ?\n",
       "3      What are the complications of Noonan syndrome ?\n",
       "4                     How to prevent Noonan syndrome ?\n",
       "Name: Question, dtype: object"
      ]
     },
     "execution_count": 5,
     "metadata": {},
     "output_type": "execute_result"
    }
   ],
   "source": [
    "questions_df['Question'].head()"
   ]
  },
  {
   "cell_type": "code",
   "execution_count": 6,
   "metadata": {},
   "outputs": [],
   "source": [
    "questions_df['Question'] = questions_df['Question'].str.replace(r'\\(Also called:.*?\\)', '', regex=True).str.strip()"
   ]
  },
  {
   "cell_type": "code",
   "execution_count": 7,
   "metadata": {},
   "outputs": [
    {
     "name": "stderr",
     "output_type": "stream",
     "text": [
      "/home/spidi/anaconda3/envs/entorno_py310/lib/python3.10/site-packages/torch/_utils.py:831: UserWarning: TypedStorage is deprecated. It will be removed in the future and UntypedStorage will be the only storage class. This should only matter to you if you are using storages directly.  To access UntypedStorage directly, use tensor.untyped_storage() instead of tensor.storage()\n",
      "  return self.fget.__get__(instance, owner)()\n",
      "100%|██████████| 238/238 [00:11<00:00, 20.05it/s]\n"
     ]
    },
    {
     "ename": "TypeError",
     "evalue": "StorageContext.from_defaults() got an unexpected keyword argument 'embed_model'",
     "output_type": "error",
     "traceback": [
      "\u001b[0;31m---------------------------------------------------------------------------\u001b[0m",
      "\u001b[0;31mTypeError\u001b[0m                                 Traceback (most recent call last)",
      "Cell \u001b[0;32mIn[7], line 2\u001b[0m\n\u001b[1;32m      1\u001b[0m client\u001b[38;5;241m=\u001b[39mGUI\u001b[38;5;241m.\u001b[39mMedicalChatBotGUI(model\u001b[38;5;241m=\u001b[39m\u001b[38;5;124m'\u001b[39m\u001b[38;5;124mmedllama2\u001b[39m\u001b[38;5;124m'\u001b[39m)\n\u001b[0;32m----> 2\u001b[0m \u001b[43mclient\u001b[49m\u001b[38;5;241;43m.\u001b[39;49m\u001b[43mgenerate_faiss_db\u001b[49m\u001b[43m(\u001b[49m\u001b[43m)\u001b[49m\n",
      "File \u001b[0;32m/mnt/c/Users/Spidi/P1-APLN/GUI.py:186\u001b[0m, in \u001b[0;36mMedicalChatBotGUI.generate_faiss_db\u001b[0;34m(self)\u001b[0m\n\u001b[1;32m    184\u001b[0m documents \u001b[38;5;241m=\u001b[39m [Document(text \u001b[38;5;241m=\u001b[39m t) \u001b[38;5;28;01mfor\u001b[39;00m t \u001b[38;5;129;01min\u001b[39;00m list_of_docs]\n\u001b[1;32m    185\u001b[0m \u001b[38;5;28mself\u001b[39m\u001b[38;5;241m.\u001b[39mvector_store \u001b[38;5;241m=\u001b[39m FaissVectorStore(faiss_index\u001b[38;5;241m=\u001b[39mindex)\n\u001b[0;32m--> 186\u001b[0m \u001b[38;5;28mself\u001b[39m\u001b[38;5;241m.\u001b[39mstorage_context \u001b[38;5;241m=\u001b[39m \u001b[43mStorageContext\u001b[49m\u001b[38;5;241;43m.\u001b[39;49m\u001b[43mfrom_defaults\u001b[49m\u001b[43m(\u001b[49m\u001b[43mvector_store\u001b[49m\u001b[38;5;241;43m=\u001b[39;49m\u001b[38;5;28;43mself\u001b[39;49m\u001b[38;5;241;43m.\u001b[39;49m\u001b[43mvector_store\u001b[49m\u001b[43m,\u001b[49m\u001b[43m \u001b[49m\u001b[43membed_model\u001b[49m\u001b[38;5;241;43m=\u001b[39;49m\u001b[38;5;124;43m'\u001b[39;49m\u001b[38;5;124;43mlocal\u001b[39;49m\u001b[38;5;124;43m'\u001b[39;49m\u001b[43m)\u001b[49m\n\u001b[1;32m    187\u001b[0m llamaindex \u001b[38;5;241m=\u001b[39m VectorStoreIndex\u001b[38;5;241m.\u001b[39mfrom_documents(\n\u001b[1;32m    188\u001b[0m     documents, storage_context\u001b[38;5;241m=\u001b[39m\u001b[38;5;28mself\u001b[39m\u001b[38;5;241m.\u001b[39mstorage_context\n\u001b[1;32m    189\u001b[0m )\n\u001b[1;32m    190\u001b[0m llamaindex\u001b[38;5;241m.\u001b[39mstorage_context\u001b[38;5;241m.\u001b[39mpersist()\n",
      "\u001b[0;31mTypeError\u001b[0m: StorageContext.from_defaults() got an unexpected keyword argument 'embed_model'"
     ]
    }
   ],
   "source": [
    "client=GUI.MedicalChatBotGUI(model='medllama2')\n",
    "client.generate_faiss_db()"
   ]
  },
  {
   "cell_type": "code",
   "execution_count": null,
   "metadata": {},
   "outputs": [],
   "source": [
    "client.vector_store"
   ]
  },
  {
   "cell_type": "code",
   "execution_count": 11,
   "metadata": {},
   "outputs": [
    {
     "name": "stdout",
     "output_type": "stream",
     "text": [
      "{1: {'url': 'https://www.nlm.nih.gov/medlineplus/ency/article/000369.htm', 'question': 'What is (are) Polycystic ovary syndrome ?', 'answer': 'Polycystic ovary syndrome (PCOS) is a condition in which a woman has increased levels of male hormones (androgens). Many problems occur as a result of this increase of hormones, including: Menstrual irregularities, Infertility, Skin problems, such as acne and increased hair growth, Increased number of small cysts in the ovaries, Insulin resistance, with an increased risk of developing diabetes , ', 'dissimilarity': 4.102007}, 2: {'url': 'https://www.nlm.nih.gov/medlineplus/polycysticovarysyndrome.html', 'question': 'What is (are) Polycystic Ovary Syndrome ?', 'answer': \"Polycystic ovary syndrome (PCOS) happens when a woman's ovaries or adrenal glands produce more male hormones than normal. One result is that cysts (fluid-filled sacs) develop on the ovaries. Women who are obese are more likely to have polycystic ovary syndrome.    Symptoms of PCOS include:      - Infertility    - Pelvic pain    - Excess hair growth on the face, chest, stomach, thumbs, or toes    - Baldness or thinning hair    - Acne, oily skin, or dandruff    - Patches of thickened dark brown or black skin          Women with PCOS are at higher risk of diabetes, metabolic syndrome, heart disease, and high blood pressure. Medicines can help control the symptoms. Birth control pills help women have normal periods, reduce male hormone levels, and clear acne. Other medicines can reduce hair growth and control blood pressure and cholesterol. There is no cure.    NIH: National Institute of Child Health and Human Development\", 'dissimilarity': 4.1020107}, 3: {'url': 'https://rarediseases.info.nih.gov/gard/7421/polycystic-ovarian-syndrome', 'question': 'What is (are) Polycystic ovarian syndrome ?', 'answer': \"Polycystic ovarian syndrome (PCOS) is a health problem that can affect a woman's menstrual cycle, ability to have children, hormones, heart, blood vessels, and appearance. Women with this condition typically have high levels of  hormones called androgens, missed or irregular periods, and many small cysts in their ovaries. The cause of PCOS is unknown, but probably involves a combination of genetic and environmental factors. Treatment for PCOS may involve birth control pills and medications for diabetes and infertility. Medicines called anti-androgens are also used to speed the growth of hair and clear acne.\", 'dissimilarity': 8.467911}, 4: {'url': 'https://www.nlm.nih.gov/medlineplus/ency/article/000369.htm', 'question': 'What causes Polycystic ovary syndrome ?', 'answer': \"PCOS is linked to changes in hormone levels that make it harder for the ovaries to release fully-grown (mature) eggs. The reasons for these changes are unclear. The hormones affected are: Estrogen and progesterone, the female hormones that help a woman's ovaries release eggs , Androgen, a male hormone that is found in small amounts in women,  Normally, one or more eggs are released during a woman's cycle. This is known as ovulation. In most cases, this release of eggs occurs about 2 weeks after the start of a menstrual period.  In many women with PCOS, mature eggs are not released. Instead, they stay in the ovaries with a small amount of fluid (cyst) around them. The affected ovary may be slightly enlarged. There can be many of these. However, not all women with the condition will have ovaries with this appearance. Women with PCOS have cycles where ovulation does not occur every month which may contribute to  infertility  The other symptoms of this disorder are due to the high levels of male hormones. Most of the time, PCOS is diagnosed in women in their 20s or 30s. However, it may also affect teenage girls. The symptoms often begin when a girl's periods start. Women with this disorder often have a mother or sister who has similar symptoms. \", 'dissimilarity': 12.188087}, 5: {'url': 'https://www.nlm.nih.gov/medlineplus/ency/article/000369.htm', 'question': 'What are the symptoms of Polycystic ovary syndrome ?', 'answer': 'Symptoms of PCOS include changes in the menstrual cycle, such as:  Not getting a period after you have had one or more normal ones during puberty ( secondary amenorrhea ), Irregular periods that may come and go, and be very light to very heavy,  Other symptoms of PCOS include: Extra body hair that grows on the chest, belly, face, and around the nipples, Acne on the face, chest, or back, Skin changes, such as dark or thick skin markings and creases around the armpits, groin, neck, and breasts ,  The development of male characteristics is not typical of PCOS and may indicate another problem. The following changes may indicate another problem apart from PCOS: Thinning hair on the head at the temples, called male pattern baldness, Enlargement of the clitoris, Deepening of the voice, Decrease in breast size, ', 'dissimilarity': 18.7575}}\n",
      "The user has asked about Polycystic ovary syndrome (PCOS), including its definition, causes, symptoms, and treatments. PCOS is a condition where women have increased levels of male hormones (androgens). It can lead to menstrual irregularities, infertility, acne, excess hair growth on the face, chest, stomach, thumbs, or toes, thinning hair on the head at the temples, and other symptoms. Treatments include birth control pills, medications for diabetes and infertility, and anti-androgens to speed the growth of hair and clear acne. A healthcare provider should be consulted if there are concerns about PCOS or any related conditions."
     ]
    },
    {
     "data": {
      "text/plain": [
       "'The user has asked about Polycystic ovary syndrome (PCOS), including its definition, causes, symptoms, and treatments. PCOS is a condition where women have increased levels of male hormones (androgens). It can lead to menstrual irregularities, infertility, acne, excess hair growth on the face, chest, stomach, thumbs, or toes, thinning hair on the head at the temples, and other symptoms. Treatments include birth control pills, medications for diabetes and infertility, and anti-androgens to speed the growth of hair and clear acne. A healthcare provider should be consulted if there are concerns about PCOS or any related conditions. \\n source: https://rarediseases.info.nih.gov/gard/7421/polycystic-ovarian-syndrome'"
      ]
     },
     "execution_count": 11,
     "metadata": {},
     "output_type": "execute_result"
    }
   ],
   "source": [
    "client.make_inference(questions_df['Question'][0])"
   ]
  },
  {
   "cell_type": "code",
   "execution_count": 2,
   "metadata": {},
   "outputs": [
    {
     "name": "stderr",
     "output_type": "stream",
     "text": [
      "/home/spidi/anaconda3/envs/entorno_py310/lib/python3.10/site-packages/tqdm/auto.py:21: TqdmWarning: IProgress not found. Please update jupyter and ipywidgets. See https://ipywidgets.readthedocs.io/en/stable/user_install.html\n",
      "  from .autonotebook import tqdm as notebook_tqdm\n"
     ]
    }
   ],
   "source": [
    "from llama_index.core import (\n",
    "    load_index_from_storage,\n",
    "    VectorStoreIndex,\n",
    "    StorageContext,\n",
    "    SummaryIndex,\n",
    "    Document\n",
    ")\n",
    "\n",
    "from llama_index.vector_stores.faiss import FaissVectorStore\n",
    "\n",
    "\n",
    "import faiss\n",
    "from faiss import write_index"
   ]
  },
  {
   "cell_type": "code",
   "execution_count": 3,
   "metadata": {},
   "outputs": [],
   "source": [
    "index = faiss.read_index(\"faiss_index.faiss\")"
   ]
  },
  {
   "cell_type": "code",
   "execution_count": 8,
   "metadata": {},
   "outputs": [
    {
     "ename": "ValueError",
     "evalue": "No existing llama_index.vector_stores.faiss.base found at faiss_index.faiss/default__vector_store.json.",
     "output_type": "error",
     "traceback": [
      "\u001b[0;31m---------------------------------------------------------------------------\u001b[0m",
      "\u001b[0;31mValueError\u001b[0m                                Traceback (most recent call last)",
      "Cell \u001b[0;32mIn[8], line 1\u001b[0m\n\u001b[0;32m----> 1\u001b[0m vector_store \u001b[38;5;241m=\u001b[39m \u001b[43mFaissVectorStore\u001b[49m\u001b[38;5;241;43m.\u001b[39;49m\u001b[43mfrom_persist_dir\u001b[49m\u001b[43m(\u001b[49m\u001b[38;5;124;43m\"\u001b[39;49m\u001b[38;5;124;43mfaiss_index.faiss\u001b[39;49m\u001b[38;5;124;43m\"\u001b[39;49m\u001b[43m)\u001b[49m\n",
      "File \u001b[0;32m~/anaconda3/envs/entorno_py310/lib/python3.10/site-packages/llama_index/vector_stores/faiss/base.py:81\u001b[0m, in \u001b[0;36mFaissVectorStore.from_persist_dir\u001b[0;34m(cls, persist_dir, fs)\u001b[0m\n\u001b[1;32m     79\u001b[0m \u001b[38;5;28;01mif\u001b[39;00m fs \u001b[38;5;129;01mand\u001b[39;00m \u001b[38;5;129;01mnot\u001b[39;00m \u001b[38;5;28misinstance\u001b[39m(fs, LocalFileSystem):\n\u001b[1;32m     80\u001b[0m     \u001b[38;5;28;01mraise\u001b[39;00m \u001b[38;5;167;01mNotImplementedError\u001b[39;00m(\u001b[38;5;124m\"\u001b[39m\u001b[38;5;124mFAISS only supports local storage for now.\u001b[39m\u001b[38;5;124m\"\u001b[39m)\n\u001b[0;32m---> 81\u001b[0m \u001b[38;5;28;01mreturn\u001b[39;00m \u001b[38;5;28;43mcls\u001b[39;49m\u001b[38;5;241;43m.\u001b[39;49m\u001b[43mfrom_persist_path\u001b[49m\u001b[43m(\u001b[49m\u001b[43mpersist_path\u001b[49m\u001b[38;5;241;43m=\u001b[39;49m\u001b[43mpersist_path\u001b[49m\u001b[43m,\u001b[49m\u001b[43m \u001b[49m\u001b[43mfs\u001b[49m\u001b[38;5;241;43m=\u001b[39;49m\u001b[38;5;28;43;01mNone\u001b[39;49;00m\u001b[43m)\u001b[49m\n",
      "File \u001b[0;32m~/anaconda3/envs/entorno_py310/lib/python3.10/site-packages/llama_index/vector_stores/faiss/base.py:97\u001b[0m, in \u001b[0;36mFaissVectorStore.from_persist_path\u001b[0;34m(cls, persist_path, fs)\u001b[0m\n\u001b[1;32m     94\u001b[0m     \u001b[38;5;28;01mraise\u001b[39;00m \u001b[38;5;167;01mNotImplementedError\u001b[39;00m(\u001b[38;5;124m\"\u001b[39m\u001b[38;5;124mFAISS only supports local storage for now.\u001b[39m\u001b[38;5;124m\"\u001b[39m)\n\u001b[1;32m     96\u001b[0m \u001b[38;5;28;01mif\u001b[39;00m \u001b[38;5;129;01mnot\u001b[39;00m os\u001b[38;5;241m.\u001b[39mpath\u001b[38;5;241m.\u001b[39mexists(persist_path):\n\u001b[0;32m---> 97\u001b[0m     \u001b[38;5;28;01mraise\u001b[39;00m \u001b[38;5;167;01mValueError\u001b[39;00m(\u001b[38;5;124mf\u001b[39m\u001b[38;5;124m\"\u001b[39m\u001b[38;5;124mNo existing \u001b[39m\u001b[38;5;132;01m{\u001b[39;00m\u001b[38;5;18m__name__\u001b[39m\u001b[38;5;132;01m}\u001b[39;00m\u001b[38;5;124m found at \u001b[39m\u001b[38;5;132;01m{\u001b[39;00mpersist_path\u001b[38;5;132;01m}\u001b[39;00m\u001b[38;5;124m.\u001b[39m\u001b[38;5;124m\"\u001b[39m)\n\u001b[1;32m     99\u001b[0m logger\u001b[38;5;241m.\u001b[39minfo(\u001b[38;5;124mf\u001b[39m\u001b[38;5;124m\"\u001b[39m\u001b[38;5;124mLoading \u001b[39m\u001b[38;5;132;01m{\u001b[39;00m\u001b[38;5;18m__name__\u001b[39m\u001b[38;5;132;01m}\u001b[39;00m\u001b[38;5;124m from \u001b[39m\u001b[38;5;132;01m{\u001b[39;00mpersist_path\u001b[38;5;132;01m}\u001b[39;00m\u001b[38;5;124m.\u001b[39m\u001b[38;5;124m\"\u001b[39m)\n\u001b[1;32m    100\u001b[0m faiss_index \u001b[38;5;241m=\u001b[39m faiss\u001b[38;5;241m.\u001b[39mread_index(persist_path)\n",
      "\u001b[0;31mValueError\u001b[0m: No existing llama_index.vector_stores.faiss.base found at faiss_index.faiss/default__vector_store.json."
     ]
    }
   ],
   "source": [
    "vector_store = FaissVectorStore.from_persist_dir(\"faiss_index.faiss\")"
   ]
  },
  {
   "cell_type": "code",
   "execution_count": 17,
   "metadata": {},
   "outputs": [],
   "source": [
    "storage_context = StorageContext.from_defaults(\n",
    "    vector_store=vector_store, persist_dir=\"faiss_index.faiss\"\n",
    ")\n",
    "index = load_index_from_storage(storage_context=storage_context)"
   ]
  },
  {
   "cell_type": "code",
   "execution_count": 18,
   "metadata": {},
   "outputs": [
    {
     "ename": "ValueError",
     "evalue": "No index in storage context, check if you specified the right persist_dir.",
     "output_type": "error",
     "traceback": [
      "\u001b[0;31m---------------------------------------------------------------------------\u001b[0m",
      "\u001b[0;31mValueError\u001b[0m                                Traceback (most recent call last)",
      "Cell \u001b[0;32mIn[18], line 1\u001b[0m\n\u001b[0;32m----> 1\u001b[0m index \u001b[38;5;241m=\u001b[39m \u001b[43mload_index_from_storage\u001b[49m\u001b[43m(\u001b[49m\u001b[43mstorage_context\u001b[49m\u001b[38;5;241;43m=\u001b[39;49m\u001b[43mstorage_context\u001b[49m\u001b[43m)\u001b[49m\n",
      "File \u001b[0;32m~/anaconda3/envs/entorno_py310/lib/python3.10/site-packages/llama_index/core/indices/loading.py:36\u001b[0m, in \u001b[0;36mload_index_from_storage\u001b[0;34m(storage_context, index_id, **kwargs)\u001b[0m\n\u001b[1;32m     33\u001b[0m indices \u001b[38;5;241m=\u001b[39m load_indices_from_storage(storage_context, index_ids\u001b[38;5;241m=\u001b[39mindex_ids, \u001b[38;5;241m*\u001b[39m\u001b[38;5;241m*\u001b[39mkwargs)\n\u001b[1;32m     35\u001b[0m \u001b[38;5;28;01mif\u001b[39;00m \u001b[38;5;28mlen\u001b[39m(indices) \u001b[38;5;241m==\u001b[39m \u001b[38;5;241m0\u001b[39m:\n\u001b[0;32m---> 36\u001b[0m     \u001b[38;5;28;01mraise\u001b[39;00m \u001b[38;5;167;01mValueError\u001b[39;00m(\n\u001b[1;32m     37\u001b[0m         \u001b[38;5;124m\"\u001b[39m\u001b[38;5;124mNo index in storage context, check if you specified the right persist_dir.\u001b[39m\u001b[38;5;124m\"\u001b[39m\n\u001b[1;32m     38\u001b[0m     )\n\u001b[1;32m     39\u001b[0m \u001b[38;5;28;01melif\u001b[39;00m \u001b[38;5;28mlen\u001b[39m(indices) \u001b[38;5;241m>\u001b[39m \u001b[38;5;241m1\u001b[39m:\n\u001b[1;32m     40\u001b[0m     \u001b[38;5;28;01mraise\u001b[39;00m \u001b[38;5;167;01mValueError\u001b[39;00m(\n\u001b[1;32m     41\u001b[0m         \u001b[38;5;124mf\u001b[39m\u001b[38;5;124m\"\u001b[39m\u001b[38;5;124mExpected to load a single index, but got \u001b[39m\u001b[38;5;132;01m{\u001b[39;00m\u001b[38;5;28mlen\u001b[39m(indices)\u001b[38;5;132;01m}\u001b[39;00m\u001b[38;5;124m instead. \u001b[39m\u001b[38;5;124m\"\u001b[39m\n\u001b[1;32m     42\u001b[0m         \u001b[38;5;124m\"\u001b[39m\u001b[38;5;124mPlease specify index_id.\u001b[39m\u001b[38;5;124m\"\u001b[39m\n\u001b[1;32m     43\u001b[0m     )\n",
      "\u001b[0;31mValueError\u001b[0m: No index in storage context, check if you specified the right persist_dir."
     ]
    }
   ],
   "source": [
    "index = load_index_from_storage(storage_context=storage_context)"
   ]
  },
  {
   "cell_type": "code",
   "execution_count": 12,
   "metadata": {},
   "outputs": [
    {
     "ename": "AttributeError",
     "evalue": "type object 'FaissVectorStore' has no attribute 'load'",
     "output_type": "error",
     "traceback": [
      "\u001b[0;31m---------------------------------------------------------------------------\u001b[0m",
      "\u001b[0;31mAttributeError\u001b[0m                            Traceback (most recent call last)",
      "Cell \u001b[0;32mIn[12], line 1\u001b[0m\n\u001b[0;32m----> 1\u001b[0m vector_store \u001b[38;5;241m=\u001b[39m \u001b[43mFaissVectorStore\u001b[49m\u001b[38;5;241;43m.\u001b[39;49m\u001b[43mload\u001b[49m(load_path\u001b[38;5;241m=\u001b[39m\u001b[38;5;124m\"\u001b[39m\u001b[38;5;124m/mnt/c/Users/Spidi/P1-APLN/faiss_index.faiss\u001b[39m\u001b[38;5;124m\"\u001b[39m)\n",
      "\u001b[0;31mAttributeError\u001b[0m: type object 'FaissVectorStore' has no attribute 'load'"
     ]
    }
   ],
   "source": [
    "vector_store = FaissVectorStore.load(load_path=\"/mnt/c/Users/Spidi/P1-APLN/faiss_index.faiss\")"
   ]
  }
 ],
 "metadata": {
  "kernelspec": {
   "display_name": "entorno_py310",
   "language": "python",
   "name": "python3"
  },
  "language_info": {
   "codemirror_mode": {
    "name": "ipython",
    "version": 3
   },
   "file_extension": ".py",
   "mimetype": "text/x-python",
   "name": "python",
   "nbconvert_exporter": "python",
   "pygments_lexer": "ipython3",
   "version": "3.10.13"
  }
 },
 "nbformat": 4,
 "nbformat_minor": 2
}
